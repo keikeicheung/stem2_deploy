{
 "cells": [
  {
   "cell_type": "markdown",
   "id": "6c934f6c64b87a8f",
   "metadata": {
    "editable": false,
    "slideshow": {
     "slide_type": ""
    },
    "tags": []
   },
   "source": [
    "# Help the Bot to Escape the Maze (**20 points**)\n",
    "By Johnson Zhuang\n",
    "\n",
    "<br/>\n",
    "Please run the block below to import the necessary tools"
   ]
  },
  {
   "cell_type": "code",
   "execution_count": null,
   "id": "8c46970d-805b-4de6-985b-5d604d3e5daf",
   "metadata": {
    "editable": false,
    "slideshow": {
     "slide_type": ""
    },
    "tags": []
   },
   "outputs": [],
   "source": [
    "import micropip\n",
    "await micropip.install(\"matplotlib\")\n",
    "from mazeutils import Bot, Cardinal, draw_maze, maze_demo, maze_beginner_1, maze_beginner_2, maze_ultimate, run_maze, show_scoreboard"
   ]
  },
  {
   "cell_type": "markdown",
   "id": "f2d7807dd23f0cf2",
   "metadata": {
    "deletable": false,
    "editable": false,
    "slideshow": {
     "slide_type": ""
    },
    "tags": []
   },
   "source": [
    "## Introduction\n",
    "A little bot is lost in the maze. You will need to help it find its way out.\n",
    "\n",
    "Here is how the maze looks like:\n",
    "- Dark gray square is the bot.\n",
    "- Black square is the exit.\n",
    "- Light gray squares are the walls\n",
    "- White squares are where the bot can move to.\n",
    "\n",
    "### What you need to implement\n",
    "You need to implement the function defining the strategy how the bot decide to move for each step.\n",
    "\n",
    "e.g. You can always ask the bot to move up for each step, or you can apply some decision making to make the bot smarter.\n",
    "\n",
    "\n",
    "### Functions you can use\n",
    "\n",
    "- `bot.move()`: Ask the bot to move one step to the current cardinal direction if there is no wall\n",
    "- `bot.turn(cardinal)`: Ask the bot to turn to the cardinal direction\n",
    "- `bot.can_move()`: Tell if there is a wall in the current cardinal direction the bot is facing by returning a Boolean value. `True` if there is no wall; `False` if there is a wall\n",
    "- `bot.get_cardinal()` will tell what cardinal direction the bot is current heading for. e.g. If the bot is going north, `get_cardinal()` will be `Cardinal.NORTH`. If the bot `turn(Cardinal.WEST)`, `get_cardinal()` will change to `Cardinal.WEST`\n",
    "\n",
    "FYI, the value for cardinal direction can be `Cardinal.NORTH`, `Cardinal.SOUTH`, `Cardinal.EAST`, `Cardinal.WEST`\n",
    "\n",
    "\n",
    "### Constraints\n",
    "- In the functions you are going to implement, you are allowed to ask the bot to move by **only one step**. i.e. `bot.move` should only be executed only once in the function."
   ]
  },
  {
   "cell_type": "markdown",
   "id": "d19d44a8-bda7-4ba5-a56d-07db0d1b48ea",
   "metadata": {
    "editable": false,
    "slideshow": {
     "slide_type": ""
    },
    "tags": []
   },
   "source": [
    "### Demo\n",
    "In this task, as a master of maze, I'll demonstrate this thing works.\n",
    "\n",
    "Below is a very, very, very simple maze. Or should I call it a maze?"
   ]
  },
  {
   "cell_type": "code",
   "execution_count": 2,
   "id": "bb05dd34-b3e1-402a-aeda-9030e0ea52f0",
   "metadata": {
    "deletable": false,
    "editable": false,
    "slideshow": {
     "slide_type": ""
    },
    "tags": []
   },
   "outputs": [
    {
     "data": {
      "image/png": "[encoded data removed]",
      "text/plain": [
       "<Figure size 250x250 with 1 Axes>"
      ]
     },
     "metadata": {},
     "output_type": "display_data"
    }
   ],
   "source": [
    "draw_maze(maze_demo)"
   ]
  },
  {
   "cell_type": "markdown",
   "id": "18b7e77b-d9b2-43d4-9e3f-bfc1ded124b8",
   "metadata": {
    "deletable": false,
    "editable": false,
    "slideshow": {
     "slide_type": ""
    },
    "tags": []
   },
   "source": [
    "Let me show you how I ask the bot to go to the exit! (Try running it and see)"
   ]
  },
  {
   "cell_type": "code",
   "execution_count": null,
   "id": "eff97325-0bfd-43a0-b72a-ff9bff880917",
   "metadata": {
    "deletable": false,
    "editable": false,
    "slideshow": {
     "slide_type": ""
    },
    "tags": []
   },
   "outputs": [],
   "source": [
    "# This is my strategy of the bot movement for each step\n",
    "def move_east_if_cannot_move_north(bot):\n",
    "    # These lines will tell the bot to move to the NORTH until it faces a wall, and then turn to the EAST and continue moving.\n",
    "    if bot.can_move():\n",
    "        bot.move()\n",
    "    else:\n",
    "        bot.turn(Cardinal.EAST)\n",
    "        bot.move()\n",
    "\n",
    "run_maze(maze_demo, move_east_if_cannot_move_north, \"demo\", True)"
   ]
  },
  {
   "cell_type": "markdown",
   "id": "85e42f65-9102-4bc6-8c07-87ba37439ce1",
   "metadata": {
    "editable": false,
    "slideshow": {
     "slide_type": ""
    },
    "tags": []
   },
   "source": [
    "## Beginner Mazes\n",
    "Now it's your turn to help the bot, but with two little more complex mazes.\n",
    "\n",
    "For the first maze, I'll give you the high-level strategy, and you need to fill in the details. This one is worth **4 points**.\n",
    "\n",
    "For the second maze, you'll be completely on your own, but if you manage to solve the first one, the second one is just a piece of cake. This one is worth **6 points**.\n",
    "\n",
    "\n",
    "### More constraints\n",
    "- Find the exit within 15 steps\n",
    "\n",
    "<details>\n",
    "<summary>hint</summary>\n",
    "Try making use of `bot.get_cardinal()` to know what direction is the bot currently going to\n",
    "</details>"
   ]
  },
  {
   "cell_type": "markdown",
   "id": "e2bb32ab-125f-471f-bc4e-3d7f43bfa7d2",
   "metadata": {
    "editable": false,
    "slideshow": {
     "slide_type": ""
    },
    "tags": []
   },
   "source": [
    "### Beginner Maze 1 (**4 points**)\n",
    "\n",
    "The initial direction the bot is facing is `Cardinal.NORTH`"
   ]
  },
  {
   "cell_type": "code",
   "execution_count": 5,
   "id": "768959ff-34f3-4ed6-8588-537fe6f826b1",
   "metadata": {
    "editable": false,
    "slideshow": {
     "slide_type": ""
    },
    "tags": []
   },
   "outputs": [
    {
     "data": {
      "image/png": "[encoded data removed]",
      "text/plain": [
       "<Figure size 300x350 with 1 Axes>"
      ]
     },
     "metadata": {},
     "output_type": "display_data"
    }
   ],
   "source": [
    "draw_maze(maze_beginner_1)"
   ]
  },
  {
   "cell_type": "code",
   "execution_count": null,
   "id": "a6740ff5-b08d-43af-be63-6a94112bad4a",
   "metadata": {
    "editable": true,
    "slideshow": {
     "slide_type": ""
    },
    "tags": []
   },
   "outputs": [],
   "source": [
    "def turn_right(bot):\n",
    "    # ----------ADD YOUR CODE BELOW----------\n",
    "    # REPLACE pass WITH YOUR IMPLEMENTATION\n",
    "    pass\n",
    "    # ----------ADD YOUR CODE ABOVE----------\n",
    "\n",
    "\n",
    "# I present you the strategy at high level: Just ask the bot to turn right and move if it cannot move forward!\n",
    "# But you still need to implement the turn_right function to make it work!\n",
    "def move_right_if_cannot_move_forward(bot):\n",
    "    if not bot.can_move():\n",
    "        turn_right(bot)\n",
    "    bot.move()    \n",
    "\n",
    "\n",
    "run_maze(maze_beginner_1, move_right_if_cannot_move_forward, \"beginner1\")"
   ]
  },
  {
   "cell_type": "markdown",
   "id": "fda02b16-edf6-49ff-91ae-07eda0ed3b13",
   "metadata": {
    "editable": false,
    "slideshow": {
     "slide_type": ""
    },
    "tags": []
   },
   "source": [
    "### Beginner Maze 2 (**6 points**)\n",
    "\n",
    "Very similar to the first maze right? You can try implementing the utility function and fill in your strategy.\n",
    "\n",
    "The initial direction the bot is facing is `Cardinal.NORTH`"
   ]
  },
  {
   "cell_type": "code",
   "execution_count": 8,
   "id": "40dc266f-ffae-46f3-b898-0f2688c364ba",
   "metadata": {
    "editable": false,
    "slideshow": {
     "slide_type": ""
    },
    "tags": []
   },
   "outputs": [
    {
     "data": {
      "image/png": "[encoded data removed]",
      "text/plain": [
       "<Figure size 300x350 with 1 Axes>"
      ]
     },
     "metadata": {},
     "output_type": "display_data"
    }
   ],
   "source": [
    "draw_maze(maze_beginner_2)"
   ]
  },
  {
   "cell_type": "code",
   "execution_count": null,
   "id": "1b12dda6-dcd7-4b22-9d20-2fcc0c8a518b",
   "metadata": {
    "editable": true,
    "slideshow": {
     "slide_type": ""
    },
    "tags": []
   },
   "outputs": [],
   "source": [
    "# This is the last piece of code hint I can leave for you. If you don't need it for your strategy, just leave it as pass\n",
    "def turn_left(bot):\n",
    "    # ----------ADD YOUR CODE BELOW----------\n",
    "    # REPLACE pass WITH YOUR IMPLEMENTATION\n",
    "    pass\n",
    "    # ----------ADD YOUR CODE ABOVE----------\n",
    "\n",
    "\n",
    "def your_strategy(bot):\n",
    "    # ----------ADD YOUR CODE BELOW----------\n",
    "    # REPLACE pass WITH YOUR IMPLEMENTATION\n",
    "    pass\n",
    "    # ----------ADD YOUR CODE ABOVE----------\n",
    "\n",
    "\n",
    "run_maze(maze_beginner_2, your_strategy, \"beginner2\")"
   ]
  },
  {
   "cell_type": "markdown",
   "id": "ea290147-ff65-4b41-b441-9fef89c7a406",
   "metadata": {
    "editable": false,
    "slideshow": {
     "slide_type": ""
    },
    "tags": []
   },
   "source": [
    "## Ultimate Quest! (**10 points**)\n",
    "The bot is so happy that it reaches the exit, but that happiness does not last long as it sees another long way and wall... Another HUGE MAZE!\n",
    "\n",
    "If you are lucky enough, probably you have got the solution from the previous maze. If that does not work, you may need to think harder... \n",
    "\n",
    "This game is worth **10 points**!\n",
    "\n",
    "The initial direction the bot is facing is `Cardinal.NORTH`\n",
    "\n",
    "### More constraints\n",
    "- Find the exit within 50 steps"
   ]
  },
  {
   "cell_type": "code",
   "execution_count": 8,
   "id": "f5347c3c-96c0-4466-83c1-f3d43f2ab3f1",
   "metadata": {
    "editable": false,
    "slideshow": {
     "slide_type": ""
    },
    "tags": []
   },
   "outputs": [
    {
     "data": {
      "image/png": "[encoded data removed]",
      "text/plain": [
       "<Figure size 600x600 with 1 Axes>"
      ]
     },
     "metadata": {},
     "output_type": "display_data"
    }
   ],
   "source": [
    "draw_maze(maze_ultimate)"
   ]
  },
  {
   "cell_type": "markdown",
   "id": "48fd60a0-4c2a-4f23-ba7d-92477cc6f937",
   "metadata": {
    "editable": false,
    "slideshow": {
     "slide_type": ""
    },
    "tags": []
   },
   "source": [
    "For this maze the strategy as simple as what we use for the previous maze (at least for beginner maze 1) obviously does not work.\n",
    "\n",
    "Then how can we solve it? I do hope you can come up with a strategy on your own. If you cannot get one, try opening the hint to get a relatively simple solution.\n",
    "\n",
    "You are free to reuse the previous implemented functions `turn_right` or `turn_left` (if you have implemented it) for your strategy.\n",
    "\n",
    "<details>\n",
    "<summary>hint</summary>\n",
    "Do you know there is a golden rule for certain types of maze that will always work? And luckily this maze falls into that certain kind of maze!\n",
    "So the golden rule is: as long as you follow one side of the wall, you will eventually find the exit of the maze.\n",
    "</details>"
   ]
  },
  {
   "cell_type": "code",
   "execution_count": null,
   "id": "262b4ff6-2667-4d66-a2e9-a2404327d27d",
   "metadata": {
    "editable": true,
    "slideshow": {
     "slide_type": ""
    },
    "tags": []
   },
   "outputs": [],
   "source": [
    "def your_ultimate_strategy(bot):\n",
    "    # ----------ADD YOUR CODE BELOW----------\n",
    "    # REPLACE pass WITH YOUR IMPLEMENTATION\n",
    "    pass\n",
    "    # ----------ADD YOUR CODE ABOVE----------\n",
    "\n",
    "run_maze(maze_ultimate, your_ultimate_strategy, \"ultimate\")"
   ]
  },
  {
   "cell_type": "markdown",
   "id": "f1caab01-1320-4229-9997-4c8b65b4c7e5",
   "metadata": {
    "editable": false,
    "slideshow": {
     "slide_type": ""
    },
    "tags": []
   },
   "source": [
    "### Please run this block to see your scores!"
   ]
  },
  {
   "cell_type": "code",
   "execution_count": null,
   "id": "fda6332c-c919-48cd-9fcc-9895f979253c",
   "metadata": {
    "editable": false,
    "slideshow": {
     "slide_type": ""
    },
    "tags": []
   },
   "outputs": [],
   "source": [
    "show_scoreboard()"
   ]
  }
 ],
 "metadata": {
  "kernelspec": {
   "display_name": "Python 3 (ipykernel)",
   "language": "python",
   "name": "python3"
  },
  "language_info": {
   "codemirror_mode": {
    "name": "ipython",
    "version": 3
   },
   "file_extension": ".py",
   "mimetype": "text/x-python",
   "name": "python",
   "nbconvert_exporter": "python",
   "pygments_lexer": "ipython3",
   "version": "3.11.7"
  }
 },
 "nbformat": 4,
 "nbformat_minor": 5
}
