{
 "cells": [
  {
   "cell_type": "markdown",
   "id": "6c934f6c64b87a8f",
   "metadata": {},
   "source": [
    "# Help the Bot to Escape the Maze\n",
    "\n",
    "Please run the block below to import the necessary tools"
   ]
  },
  {
   "cell_type": "code",
   "execution_count": 1,
   "id": "8c46970d-805b-4de6-985b-5d604d3e5daf",
   "metadata": {},
   "outputs": [],
   "source": [
    "import micropip\n",
    "await micropip.install(\"matplotlib\")\n",
    "from mazeutils import Bot, Direction, draw_maze, maze_demo, maze_beginner, maze_ultimate, run_maze, show_scoreboard"
   ]
  },
  {
   "cell_type": "markdown",
   "id": "f2d7807dd23f0cf2",
   "metadata": {},
   "source": [
    "## Introduction\n",
    "A little bot is lost in the maze. You will need to help it find its way out.\n",
    "\n",
    "Here is how the maze looks like: The dark gray square is the bot and black square is the exit. The light gray squares are the walls and the white squares are where the bot can move to.\n",
    "\n",
    "### Functions you can use\n",
    "\n",
    "- `bot.move(direction)`: Ask the bot to move one step to the direction if there is no wall\n",
    "- `bot.can_move(direction)`: Tell if there is a wall in the direction by returning a Boolean value. `True` if there is no wall; `False` if there is a wall\n",
    "- `bot.get_direction()` will tell what direction the bot is current heading for. i.e. If the bot is going up, `get_direction()` will be `Direction.UP`. If the bot successfully `move(Direction.LEFT)`, `get_direction()` will change to `Direction.LEFT`\n",
    "\n",
    "The value for direction can be `Direction.UP`, `Direction.LEFT`, `Direction.DOWN`, `Direction.RIGHT`\n",
    "\n",
    "\n",
    "### Constraints\n",
    "- In the while loop, for each iteration, the bot is allowed to move only one step"
   ]
  },
  {
   "cell_type": "markdown",
   "id": "d19d44a8-bda7-4ba5-a56d-07db0d1b48ea",
   "metadata": {},
   "source": [
    "### Beginner\n",
    "In this task, as a master of maze, I'll guide you how this thing works.\n",
    "\n",
    "Below is a very, very, very simple maze. Or should I call it a maze?"
   ]
  },
  {
   "cell_type": "code",
   "execution_count": 2,
   "id": "bb05dd34-b3e1-402a-aeda-9030e0ea52f0",
   "metadata": {},
   "outputs": [
    {
     "data": {
      "image/png": "[encoded data removed]",
      "text/plain": [
       "<Figure size 250x250 with 1 Axes>"
      ]
     },
     "metadata": {},
     "output_type": "display_data"
    }
   ],
   "source": [
    "draw_maze(maze_demo)"
   ]
  },
  {
   "cell_type": "markdown",
   "id": "18b7e77b-d9b2-43d4-9e3f-bfc1ded124b8",
   "metadata": {},
   "source": [
    "Let me show you how I ask the bot to go to the exit! (Try running it and see)"
   ]
  },
  {
   "cell_type": "code",
   "execution_count": null,
   "id": "eff97325-0bfd-43a0-b72a-ff9bff880917",
   "metadata": {},
   "outputs": [],
   "source": [
    "# This is the function that defines what a bot should do in each round\n",
    "def move_each_round(bot):\n",
    "    # These lines will tell the bot to move UP until it faces a wall, and then move right.\n",
    "    if bot.can_move(Direction.UP):\n",
    "        bot.move(Direction.UP)\n",
    "    else:\n",
    "        bot.move(Direction.RIGHT)\n",
    "\n",
    "run_maze(maze_demo, move_each_round, 10, \"demo\", True)"
   ]
  },
  {
   "cell_type": "markdown",
   "id": "85e42f65-9102-4bc6-8c07-87ba37439ce1",
   "metadata": {},
   "source": [
    "## Beginner Maze\n",
    "Now it's your turn to help the bot, but with a little more complex maze.\n",
    "\n",
    "The logic in the previous demo obviously does not work. How will you tell the bot to do the right thing at the right time?\n",
    "\n",
    "This game is worth **40 points**!\n",
    "\n",
    "### More constraints\n",
    "- Find the exit within 15 steps\n",
    "\n",
    "<details>\n",
    "<summary>hint</summary>\n",
    "Try making use of `bot.get_direction()` to know what direction is the bot currently going to\n",
    "</details>"
   ]
  },
  {
   "cell_type": "code",
   "execution_count": 3,
   "id": "768959ff-34f3-4ed6-8588-537fe6f826b1",
   "metadata": {},
   "outputs": [
    {
     "data": {
      "image/png": "[encoded data removed]",
      "text/plain": [
       "<Figure size 300x350 with 1 Axes>"
      ]
     },
     "metadata": {},
     "output_type": "display_data"
    }
   ],
   "source": [
    "draw_maze(maze_beginner)"
   ]
  },
  {
   "cell_type": "code",
   "execution_count": null,
   "id": "a6740ff5-b08d-43af-be63-6a94112bad4a",
   "metadata": {},
   "outputs": [],
   "source": [
    "def move_each_round(bot):\n",
    "    # ----------ADD YOUR CODE BELOW----------\n",
    "    # YOUR IMPLEMENTATION HERE\n",
    "    # ----------ADD YOUR CODE ABOVE----------\n",
    "\n",
    "run_maze(maze_beginner, move_each_round, 15, \"beginner\")"
   ]
  },
  {
   "cell_type": "markdown",
   "id": "ea290147-ff65-4b41-b441-9fef89c7a406",
   "metadata": {},
   "source": [
    "## Ultimate Quest!\n",
    "The bot is so happy that it reaches the exit, but that happiness does not last long as it sees another long way and wall... Another HUGE MAZE!\n",
    "\n",
    "If you are lucky enough, probably you have got the solution from the previous maze. If that does not work, you may need to think harder... \n",
    "\n",
    "This game is worth **60 points**!\n",
    "\n",
    "### More constraints\n",
    "- Find the exit within 50 steps\n",
    "\n",
    "<details>\n",
    "<summary>hint 1</summary>\n",
    "Do you know that as long as you follow one side of the wall, you will eventually find the exit of the maze?\n",
    "</details>\n",
    "<details>\n",
    "<summary>hint 2</summary>\n",
    "If one side does not meet the requirement, how about the other side?\n",
    "</details>"
   ]
  },
  {
   "cell_type": "code",
   "execution_count": 4,
   "id": "f5347c3c-96c0-4466-83c1-f3d43f2ab3f1",
   "metadata": {},
   "outputs": [
    {
     "data": {
      "image/png": "[encoded data removed]",
      "text/plain": [
       "<Figure size 600x600 with 1 Axes>"
      ]
     },
     "metadata": {},
     "output_type": "display_data"
    }
   ],
   "source": [
    "draw_maze(maze_ultimate)"
   ]
  },
  {
   "cell_type": "code",
   "execution_count": null,
   "id": "6f93ff5f-d8ab-4eee-9782-96ef86ca3f88",
   "metadata": {},
   "outputs": [],
   "source": [
    "def move_each_round(bot):\n",
    "    # ----------ADD YOUR CODE BELOW----------\n",
    "    # YOUR IMPLEMENTATION HERE\n",
    "    # ----------ADD YOUR CODE ABOVE----------\n",
    "\n",
    "run_maze(maze_ultimate, move_each_round, 50, \"ultimate\")"
   ]
  },
  {
   "cell_type": "markdown",
   "id": "f1caab01-1320-4229-9997-4c8b65b4c7e5",
   "metadata": {},
   "source": [
    "### Please run this block to see your scores!"
   ]
  },
  {
   "cell_type": "code",
   "execution_count": null,
   "id": "fda6332c-c919-48cd-9fcc-9895f979253c",
   "metadata": {},
   "outputs": [],
   "source": [
    "show_scoreboard()"
   ]
  }
 ],
 "metadata": {
  "kernelspec": {
   "display_name": "Python 3 (ipykernel)",
   "language": "python",
   "name": "python3"
  },
  "language_info": {
   "codemirror_mode": {
    "name": "ipython",
    "version": 3
   },
   "file_extension": ".py",
   "mimetype": "text/x-python",
   "name": "python",
   "nbconvert_exporter": "python",
   "pygments_lexer": "ipython3",
   "version": "3.11.7"
  }
 },
 "nbformat": 4,
 "nbformat_minor": 5
}
