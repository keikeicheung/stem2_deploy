{
  "metadata": {
    "kernelspec": {
      "name": "python",
      "display_name": "Python (Pyodide)",
      "language": "python"
    },
    "language_info": {
      "codemirror_mode": {
        "name": "python",
        "version": 3
      },
      "file_extension": ".py",
      "mimetype": "text/x-python",
      "name": "python",
      "nbconvert_exporter": "python",
      "pygments_lexer": "ipython3",
      "version": "3.8"
    }
  },
  "nbformat_minor": 4,
  "nbformat": 4,
  "cells": [
    {
      "cell_type": "markdown",
      "source": "Alice needs to match up buyers and sellers of Apples on her Apple exchange.\nHer seller and buyers are very particular and are only willing to make a deal if they can sell/buy the exact quantity they need.\n\nHer exchange recieves buy orders in the form of an integer:",
      "metadata": {
        "tags": [],
        "editable": false,
        "slideshow": {
          "slide_type": ""
        }
      }
    },
    {
      "cell_type": "code",
      "source": "buyAmount = 10",
      "metadata": {
        "trusted": true,
        "tags": [],
        "editable": false,
        "slideshow": {
          "slide_type": ""
        }
      },
      "outputs": [],
      "execution_count": 12
    },
    {
      "cell_type": "markdown",
      "source": "This means a buyer has entered an order for 10 apples!\n\nHer exchange also has on hand an array of quantities which represents lots available for sale:",
      "metadata": {
        "tags": [],
        "editable": false,
        "slideshow": {
          "slide_type": ""
        }
      }
    },
    {
      "cell_type": "code",
      "source": "sellOrders = [5, 2, 4, 2, 5]",
      "metadata": {
        "trusted": true,
        "tags": [],
        "editable": false,
        "slideshow": {
          "slide_type": ""
        }
      },
      "outputs": [],
      "execution_count": 19
    },
    {
      "cell_type": "markdown",
      "source": "This means that there are 6 sellers, two selling 5 apples, two selling 2 apples and one selling 4 apples.\n\nThe above buyAmount of 10 can be placed by the first two sell orders 5 + 5 so this function should return true.\n\nbuyAmount = 10\n\nsellOrders = [5, 2, 4, 2, 5]\n\nisFullfilable(10, [5, 2, 4, 2, 5]) == True",
      "metadata": {
        "tags": [],
        "editable": false,
        "slideshow": {
          "slide_type": ""
        }
      }
    },
    {
      "cell_type": "markdown",
      "source": "In another example, the buyAmount cannot be placed as we cannot split sell orders, so the function should return false.\n\nbuyAmount = 9\nsellOrders = [5, 5, 3]\n\nisFullfilable(10, [5, 5, 3]) == False",
      "metadata": {
        "tags": [],
        "editable": false,
        "slideshow": {
          "slide_type": ""
        }
      }
    },
    {
      "cell_type": "markdown",
      "source": "When we develop software, it is often good practice to first establish test cases to check if our code is fit for purpose.\nTry to pass all 6 cases below - your score will be the passing cases minus 3 (out of a maximum of 3 points).",
      "metadata": {
        "tags": [],
        "editable": false,
        "slideshow": {
          "slide_type": ""
        }
      }
    },
    {
      "cell_type": "code",
      "source": "import unittest\n\nclass TestFullfilable(unittest.TestCase):\n    def test_example_case(self):\n        test_buy=10\n        test_sells=[5, 2, 4, 2, 5]\n        expected=True\n        self.assertEqual(isFullfilable(test_buy, test_sells), expected)\n    def test_single_entry(self):\n        test_buy=5\n        test_sells=[5]\n        expected=True\n        self.assertEqual(isFullfilable(test_buy, test_sells), expected)\n    def test_too_low(self):\n        test_buy=16\n        test_sells=[5,4,3,2,1]\n        expected=False\n        self.assertEqual(isFullfilable(test_buy, test_sells), expected)\n    def test_identical_values(self):\n        test_buy=9\n        test_sells=[3,4,7,3,3,7]\n        expected=True\n        self.assertEqual(isFullfilable(test_buy, test_sells), expected)\n    def test_no_sells(self):\n        test_buy=1\n        test_sells=[]\n        expected=False\n        self.assertEqual(isFullfilable(test_buy, test_sells), expected)\n    def test_many_sells_but_wrong_shape(self):\n        test_buy=23\n        test_sells=[2, 4, 6, 10, 12, 6, 8]\n        expected=False\n        self.assertEqual(isFullfilable(test_buy, test_sells), expected)\n\ndef run_tests():\n    result = unittest.main(argv=[''], verbosity=0, exit=False).result\n    score = result.testsRun - len(result.errors) - len(result.failures)\n    score -= 3\n    if score < 0:\n        score = 0\n    return score",
      "metadata": {
        "trusted": true,
        "tags": [],
        "editable": false,
        "slideshow": {
          "slide_type": ""
        }
      },
      "outputs": [],
      "execution_count": 42
    },
    {
      "cell_type": "markdown",
      "source": "Implement the following function which returns true if the buy order is fullfilable by the array of sell lots. Remember that no seller is willing to split their lot!",
      "metadata": {
        "tags": [],
        "editable": false,
        "slideshow": {
          "slide_type": ""
        }
      }
    },
    {
      "cell_type": "code",
      "source": "def isFullfilable(buyAmount, sellOrders):\n    return false\n\nisFullfilable(10, [5, 2, 4, 2, 5])",
      "metadata": {
        "trusted": true,
        "tags": [],
        "editable": true,
        "slideshow": {
          "slide_type": ""
        }
      },
      "outputs": [],
      "execution_count": null
    },
    {
      "cell_type": "code",
      "source": "score = run_tests()\nprint(\"Your score is \" + str(score) + \"/3 !\")",
      "metadata": {
        "trusted": true,
        "tags": [],
        "editable": false,
        "slideshow": {
          "slide_type": ""
        }
      },
      "outputs": [],
      "execution_count": null
    }
  ]
}