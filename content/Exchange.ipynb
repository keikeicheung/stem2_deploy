{
  "metadata": {
    "kernelspec": {
      "name": "python",
      "display_name": "Python (Pyodide)",
      "language": "python"
    },
    "language_info": {
      "codemirror_mode": {
        "name": "python",
        "version": 3
      },
      "file_extension": ".py",
      "mimetype": "text/x-python",
      "name": "python",
      "nbconvert_exporter": "python",
      "pygments_lexer": "ipython3",
      "version": "3.8"
    }
  },
  "nbformat_minor": 4,
  "nbformat": 4,
  "cells": [
    {
      "cell_type": "markdown",
      "source": "Alice needs to match up buyers and sellers of a particular stock to facilitate transactions on her exchange.\nHer exchange recieves buy orders in the form of an integer:\n",
      "metadata": {
        "tags": [],
        "editable": false,
        "slideshow": {
          "slide_type": ""
        }
      }
    },
    {
      "cell_type": "code",
      "source": "buyAmount = 10",
      "metadata": {
        "trusted": true,
        "tags": [],
        "editable": false,
        "slideshow": {
          "slide_type": ""
        }
      },
      "outputs": [],
      "execution_count": 8
    },
    {
      "cell_type": "markdown",
      "source": "Her exchange also has on hand an array of sell order quantities which represent sell orders:",
      "metadata": {
        "tags": [],
        "editable": false,
        "slideshow": {
          "slide_type": ""
        }
      }
    },
    {
      "cell_type": "code",
      "source": "sellOrders = [5, 5, 1, 2, 2, 3]",
      "metadata": {
        "trusted": true,
        "tags": [],
        "editable": false,
        "slideshow": {
          "slide_type": ""
        }
      },
      "outputs": [],
      "execution_count": 9
    },
    {
      "cell_type": "markdown",
      "source": "Can you implement the following function which returns true if the buy order is fullfilable with the sell orders currently on book?",
      "metadata": {
        "tags": [],
        "editable": true,
        "slideshow": {
          "slide_type": ""
        }
      }
    },
    {
      "cell_type": "code",
      "source": "def isFullfilable(buyAmount, sellOrders):\n    return False",
      "metadata": {
        "trusted": true,
        "tags": [],
        "editable": true,
        "slideshow": {
          "slide_type": ""
        }
      },
      "outputs": [],
      "execution_count": 10
    },
    {
      "cell_type": "markdown",
      "source": "For example: The above buyAmount of 10 can be placed by the first two sell orders 5 + 5 so this function should return true.\n\nbuyAmount = 10\n\nsellOrders = [5, 5, 1, 2, 2, 3]\n\nisFullfilable(10, [5, 5, 1, 2, 2, 3]) == True",
      "metadata": {
        "tags": [],
        "editable": false,
        "slideshow": {
          "slide_type": ""
        },
        "raw_mimetype": ""
      }
    },
    {
      "cell_type": "markdown",
      "source": "For the next example, the buyAmount cannot be placed as we cannot split sell orders, so the function should return false.\n\nbuyAmount = 9\nsellOrders = [5, 5, 3]\n\nisFullfilable(10, [5, 5, 3]) == False",
      "metadata": {
        "tags": [],
        "editable": false,
        "slideshow": {
          "slide_type": ""
        }
      }
    },
    {
      "cell_type": "code",
      "source": "import unittest\n\nclass TestFullfilable(unittest.TestCase):\n    def test_example_case(self):\n        test_buy=10\n        test_sells=[5, 5, 1, 2, 2, 3]\n        expected=True\n        self.assertEqual(isFullfilable(test_buy, test_sells), expected)\n    def test_single_entry(self):\n        test_buy=5\n        test_sells=[5]\n        expected=True\n        self.assertEqual(isFullfilable(test_buy, test_sells), expected)\n    def test_too_low(self):\n        test_buy=15\n        test_sells=[5,4,3,2,1]\n        expected=True\n        self.assertEqual(isFullfilable(test_buy, test_sells), expected)\n    def test_identical_values(self):\n        test_buy=9\n        test_sells=[3,3,3,4,7,7]\n        expected=True\n        self.assertEqual(isFullfilable(test_buy, test_sells), expected)\n    def test_no_sells(self):\n        test_buy=1\n        test_sells=[]\n        expected=False\n        self.assertEqual(isFullfilable(test_buy, test_sells), expected)\nunittest.main(argv=[''], verbosity=0, exit=False)",
      "metadata": {
        "trusted": true,
        "tags": [],
        "editable": false,
        "slideshow": {
          "slide_type": ""
        }
      },
      "outputs": [],
      "execution_count": null
    }
  ]
}
