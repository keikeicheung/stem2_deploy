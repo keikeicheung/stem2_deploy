{
  "cells": [
    {
      "cell_type": "markdown",
      "metadata": {
        "editable": false,
        "slideshow": {
          "slide_type": ""
        },
        "tags": []
      },
      "source": [
        "# Exchange (25pts)\n",
        "\n",
        "Author: Joel Chi\n",
        "\n",
        "Alice needs to match up buyers and sellers of Apples on her Apple exchange.\n",
        "Her seller and buyers are very particular and are only willing to make a deal if they can sell/buy the exact quantity they need.\n",
        "\n",
        "Her exchange recieves buy orders in the form of an integer:"
      ]
    },
    {
      "cell_type": "code",
      "execution_count": null,
      "metadata": {
        "editable": false,
        "slideshow": {
          "slide_type": ""
        },
        "tags": [],
        "trusted": true
      },
      "outputs": [],
      "source": [
        "buyAmount = 5"
      ]
    },
    {
      "cell_type": "markdown",
      "metadata": {
        "editable": false,
        "slideshow": {
          "slide_type": ""
        },
        "tags": []
      },
      "source": [
        "This means a buyer has entered an order for 5 apples!\n",
        "\n",
        "Her exchange also has on hand an array of quantities which represents lots available for sale:"
      ]
    },
    {
      "cell_type": "code",
      "execution_count": null,
      "metadata": {
        "editable": false,
        "slideshow": {
          "slide_type": ""
        },
        "tags": [],
        "trusted": true
      },
      "outputs": [],
      "source": [
        "sellOrders = [5, 2, 4, 2, 5]"
      ]
    },
    {
      "cell_type": "markdown",
      "metadata": {
        "editable": false,
        "slideshow": {
          "slide_type": ""
        },
        "tags": []
      },
      "source": [
        "##### This means that there are 6 sellers, two selling 5 apples, two selling 2 apples and one selling 4 apples.\n",
        "\n",
        "The above buyAmount of 5 can be placed by the first sell orders 5 so this function should return true.\n",
        "\n",
        "buyAmount = 5\n",
        "\n",
        "sellOrders = [5, 2, 4, 2, 5]\n",
        "\n",
        "isFullfilable(5, [5, 2, 4, 2, 5]) == True\n",
        "\n",
        "Lets assume for now that the buyer is only interested in making a exchange with a single seller - if no-one is selling exactly 5 Apples, then no deal can be made."
      ]
    },
    {
      "cell_type": "markdown",
      "metadata": {
        "editable": false,
        "raw_mimetype": "",
        "slideshow": {
          "slide_type": ""
        },
        "tags": []
      },
      "source": [
        "When we develop software, it is often good practice to first establish test cases to check if our code is fit for purpose. Try to pass these cases below."
      ]
    },
    {
      "cell_type": "code",
      "execution_count": null,
      "metadata": {
        "editable": false,
        "slideshow": {
          "slide_type": ""
        },
        "tags": [],
        "trusted": true
      },
      "outputs": [],
      "source": [
        "import unittest\n",
        "\n",
        "class TestOneToOne(unittest.TestCase):\n",
        "    def test_example_case(self):\n",
        "        test_buy=5\n",
        "        test_sells=[5, 2, 4, 2, 5]\n",
        "        expected=True\n",
        "        self.assertEqual(isFullfilableOneToOne(test_buy, test_sells), expected)\n",
        "    def test_single_entry(self):\n",
        "        test_buy=7\n",
        "        test_sells=[2, 3, 7, 17, 2]\n",
        "        expected=True\n",
        "        self.assertEqual(isFullfilableOneToOne(test_buy, test_sells), expected)\n",
        "    def test_no_match(self):\n",
        "        test_buy=4\n",
        "        test_sells=[2, 3, 5, 3, 7]\n",
        "        expected=False\n",
        "        self.assertEqual(isFullfilableOneToOne(test_buy, test_sells), expected)\n",
        "    def test_no_sells(self):\n",
        "        test_buy=4\n",
        "        test_sells=[]\n",
        "        expected=False\n",
        "        self.assertEqual(isFullfilableOneToOne(test_buy, test_sells), expected)"
      ]
    },
    {
      "cell_type": "markdown",
      "metadata": {
        "editable": false,
        "slideshow": {
          "slide_type": ""
        },
        "tags": []
      },
      "source": [
        "Implement the following function which returns true if the buy order is fullfilable by a single sell lot in the array."
      ]
    },
    {
      "cell_type": "code",
      "execution_count": null,
      "metadata": {
        "editable": true,
        "slideshow": {
          "slide_type": ""
        },
        "tags": [],
        "trusted": true
      },
      "outputs": [],
      "source": [
        "#Modify this!\n",
        "\n",
        "def isFullfilableOneToOne(buyAmount, sellOrders):\n",
        "    return False\n",
        "\n",
        "isFullfilableOneToOne(5, [5, 2, 4, 2, 5])"
      ]
    },
    {
      "cell_type": "code",
      "execution_count": null,
      "metadata": {
        "editable": false,
        "slideshow": {
          "slide_type": ""
        },
        "tags": [],
        "trusted": true
      },
      "outputs": [],
      "source": [
        "suite = unittest.defaultTestLoader.loadTestsFromTestCase(TestOneToOne)\n",
        "result1 = unittest.TextTestRunner().run(suite)"
      ]
    },
    {
      "cell_type": "markdown",
      "metadata": {
        "editable": false,
        "slideshow": {
          "slide_type": ""
        },
        "tags": []
      },
      "source": [
        "Alice has loosened requirements on her exchange to allow two sellers to combine to fill an order.\n",
        "\n",
        "buyAmount = 10\n",
        "\n",
        "sellOrders = [5, 2, 4, 2, 5]\n",
        "\n",
        "isFullfilable(10, [5, 2, 4, 2, 5]) == True\n",
        "\n",
        "In this example the two sellers with lots of 5 can combine forces to fill the order and sell their apples!\n",
        "\n",
        "In another example, the buyAmount cannot be placed as although sellers can combine they cannot split their sell orders, so the function should return false.\n",
        "\n",
        "buyAmount = 9\n",
        "sellOrders = [5, 5, 3]\n",
        "\n",
        "isFullfilable(10, [5, 5, 3]) == False"
      ]
    },
    {
      "cell_type": "code",
      "execution_count": null,
      "metadata": {
        "editable": false,
        "slideshow": {
          "slide_type": ""
        },
        "tags": [],
        "trusted": true
      },
      "outputs": [],
      "source": [
        "class TestOneOrTwo(unittest.TestCase):\n",
        "    def test_example_case(self):\n",
        "        test_buy=10\n",
        "        test_sells=[5, 2, 4, 2, 5]\n",
        "        expected=True\n",
        "        self.assertEqual(isFullfilableOneOrTwo(test_buy, test_sells), expected)\n",
        "    def test_single_entry(self):\n",
        "        test_buy=7\n",
        "        test_sells=[2, 3, 7, 17, 2]\n",
        "        expected=True\n",
        "        self.assertEqual(isFullfilableOneOrTwo(test_buy, test_sells), expected)\n",
        "    def test_combine_entry(self):\n",
        "        test_buy=4\n",
        "        test_sells=[2, 3, 5, 1, 7]\n",
        "        expected=True\n",
        "        self.assertEqual(isFullfilableOneOrTwo(test_buy, test_sells), expected)\n",
        "    def test_cannot_split(self):\n",
        "        test_buy=6\n",
        "        test_sells=[2, 3, 5, 9]\n",
        "        expected=False\n",
        "        self.assertEqual(isFullfilableOneOrTwo(test_buy, test_sells), expected)"
      ]
    },
    {
      "cell_type": "markdown",
      "metadata": {
        "editable": false,
        "slideshow": {
          "slide_type": ""
        },
        "tags": []
      },
      "source": [
        "Implement the following function which returns true if the buy order is fullfilable by one or two sell orders. Remember that no seller is willing to split their lot!\n",
        "\n",
        "Hint: Is there a way you can use isFullfilableOneToOne() function you completed above inside isFullfilableOneOrTwo() to solve this problem?\n",
        "\n",
        "Hint: You may need find .copy() to be helpful as to not modify the original sellOrders array.\n",
        "\n",
        "Hint: You may find .pop() or .remove() helpful to remove elements in your newly copied array."
      ]
    },
    {
      "cell_type": "code",
      "execution_count": null,
      "metadata": {
        "editable": true,
        "slideshow": {
          "slide_type": ""
        },
        "tags": [],
        "trusted": true
      },
      "outputs": [],
      "source": [
        "#Modify this!\n",
        "\n",
        "def isFullfilableOneOrTwo(buyAmount, sellOrders):\n",
        "    return False\n",
        "\n",
        "isFullfilableOneOrTwo(6, [2, 3, 5, 9])"
      ]
    },
    {
      "cell_type": "code",
      "execution_count": null,
      "metadata": {
        "editable": false,
        "slideshow": {
          "slide_type": ""
        },
        "tags": [],
        "trusted": true
      },
      "outputs": [],
      "source": [
        "suite = unittest.defaultTestLoader.loadTestsFromTestCase(TestOneOrTwo)\n",
        "result2 = unittest.TextTestRunner().run(suite)"
      ]
    },
    {
      "cell_type": "markdown",
      "metadata": {
        "editable": false,
        "slideshow": {
          "slide_type": ""
        },
        "tags": []
      },
      "source": [
        "In order to drive even more business, Alice has loosened requirements further. Now any number of sellers can combine to fill an order!\n",
        "\n",
        "buyAmount = 10\n",
        "\n",
        "sellOrders = [3, 3, 7, 1, 2]\n",
        "\n",
        "isFullfilable(10, [3, 3, 7, 1, 2]) == True\n",
        "\n",
        "As with before, individual sellers are still unwilling to split their lots.\n",
        "Can you help Allice out by fixing the following test cases?"
      ]
    },
    {
      "cell_type": "code",
      "execution_count": null,
      "metadata": {
        "editable": false,
        "slideshow": {
          "slide_type": ""
        },
        "tags": [],
        "trusted": true
      },
      "outputs": [],
      "source": [
        "class TestOneToMany(unittest.TestCase):\n",
        "    def test_example_case(self):\n",
        "        test_buy=10\n",
        "        test_sells=[3, 3, 7, 1, 2]\n",
        "        expected=True\n",
        "        self.assertEqual(isFullfilableOneToMany(test_buy, test_sells), expected)\n",
        "    def test_too_low(self):\n",
        "        test_buy=16\n",
        "        test_sells=[5,4,3,2,1]\n",
        "        expected=False\n",
        "        self.assertEqual(isFullfilableOneToMany(test_buy, test_sells), expected)\n",
        "    def test_identical_values(self):\n",
        "        test_buy=9\n",
        "        test_sells=[3,4,7,3,3,7]\n",
        "        expected=True\n",
        "        self.assertEqual(isFullfilableOneToMany(test_buy, test_sells), expected)\n",
        "    def test_no_sells(self):\n",
        "        test_buy=1\n",
        "        test_sells=[]\n",
        "        expected=False\n",
        "        self.assertEqual(isFullfilableOneToMany(test_buy, test_sells), expected)\n",
        "    def test_many_sells_but_wrong_shape(self):\n",
        "        test_buy=23\n",
        "        test_sells=[2, 4, 6, 10, 12, 6, 8]\n",
        "        expected=False\n",
        "        self.assertEqual(isFullfilableOneToMany(test_buy, test_sells), expected)"
      ]
    },
    {
      "cell_type": "markdown",
      "metadata": {
        "editable": false,
        "slideshow": {
          "slide_type": ""
        },
        "tags": []
      },
      "source": [
        "Hint: Is it possible that isFullfilableOneToMany can recursively resolve this problem, by calling *itself* in a way similar to how OneToTwo can be solved by calling OneToOne?"
      ]
    },
    {
      "cell_type": "code",
      "execution_count": null,
      "metadata": {
        "editable": true,
        "slideshow": {
          "slide_type": ""
        },
        "tags": [],
        "trusted": true
      },
      "outputs": [],
      "source": [
        "#Modify this!\n",
        "\n",
        "def isFullfilableOneToMany(buyAmount, sellOrders):\n",
        "    return False\n",
        "\n",
        "isFullfilableOneToMany(10, [3, 3, 7, 1, 2])"
      ]
    },
    {
      "cell_type": "code",
      "execution_count": null,
      "metadata": {
        "editable": false,
        "slideshow": {
          "slide_type": ""
        },
        "tags": [],
        "trusted": true
      },
      "outputs": [],
      "source": [
        "suite = unittest.defaultTestLoader.loadTestsFromTestCase(TestOneToMany)\n",
        "result3 = unittest.TextTestRunner().run(suite)"
      ]
    },
    {
      "cell_type": "markdown",
      "metadata": {
        "editable": false,
        "slideshow": {
          "slide_type": ""
        },
        "tags": []
      },
      "source": [
        "Run below to find your final score:"
      ]
    },
    {
      "cell_type": "code",
      "execution_count": null,
      "metadata": {
        "editable": true,
        "slideshow": {
          "slide_type": ""
        },
        "tags": [],
        "trusted": true
      },
      "outputs": [],
      "source": [
        "score = 0\n",
        "\n",
        "if len(result1.errors) + len(result1.failures) == 0:\n",
        "    score += 1\n",
        "if len(result2.errors) + len(result2.failures) == 0:\n",
        "    score += 2\n",
        "if len(result3.errors) + len(result3.failures) == 0:\n",
        "    score += 3\n",
        "elif len(result3.errors) + len(result3.failures) == 1:\n",
        "    score += 2\n",
        "\n",
        "print(\"Score: \" + str(score) + \"!\")"
      ]
    }
  ],
  "metadata": {
    "kernelspec": {
      "display_name": "Python (Pyodide)",
      "language": "python",
      "name": "python"
    },
    "language_info": {
      "codemirror_mode": {
        "name": "python",
        "version": 3
      },
      "file_extension": ".py",
      "mimetype": "text/x-python",
      "name": "python",
      "nbconvert_exporter": "python",
      "pygments_lexer": "ipython3",
      "version": "3.8"
    }
  },
  "nbformat": 4,
  "nbformat_minor": 4
}
